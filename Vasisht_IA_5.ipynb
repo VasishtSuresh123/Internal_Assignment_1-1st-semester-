{
 "cells": [
  {
   "cell_type": "markdown",
   "id": "2346566d",
   "metadata": {},
   "source": [
    "## VASISHT_ASSIGNMENT_1\n"
   ]
  },
  {
   "cell_type": "code",
   "execution_count": 1,
   "id": "7f4485d4",
   "metadata": {},
   "outputs": [
    {
     "name": "stdout",
     "output_type": "stream",
     "text": [
      "Enter the Fibonacci Series length: 10\n",
      "The Fibonacci series with 10 terms is: \n",
      "0 1 1 2 3 5 8 13 21 34 "
     ]
    }
   ],
   "source": [
    "##FIBONACCI SEQUENCE\n",
    "num = int(input(\"Enter the Fibonacci Series length: \"))\n",
    "\n",
    "a = 0\n",
    "b = 1\n",
    "\n",
    "print(\"The Fibonacci series with\", num, \"terms is: \")\n",
    "print(a, b, end=\" \")\n",
    "for i in range(2,num):\n",
    "    c = a + b\n",
    "    print(c, end=\" \")\n",
    "    a = b\n",
    "    b = c"
   ]
  },
  {
   "cell_type": "code",
   "execution_count": 2,
   "id": "db06c443",
   "metadata": {},
   "outputs": [
    {
     "name": "stdout",
     "output_type": "stream",
     "text": [
      "Enter the value of the factorial: 6\n",
      "the factorial of  6 is 720\n"
     ]
    }
   ],
   "source": [
    "def fact(num):\n",
    "    if num == 0:\n",
    "        return 1\n",
    "    else:\n",
    "        return num*fact(num-1)\n",
    "    \n",
    "num = int(input(\"Enter the value of the factorial: \"))\n",
    "print(\"the factorial of \",num,\"is\",fact(num))"
   ]
  }
 ],
 "metadata": {
  "kernelspec": {
   "display_name": "Python 3 (ipykernel)",
   "language": "python",
   "name": "python3"
  },
  "language_info": {
   "codemirror_mode": {
    "name": "ipython",
    "version": 3
   },
   "file_extension": ".py",
   "mimetype": "text/x-python",
   "name": "python",
   "nbconvert_exporter": "python",
   "pygments_lexer": "ipython3",
   "version": "3.11.5"
  }
 },
 "nbformat": 4,
 "nbformat_minor": 5
}
