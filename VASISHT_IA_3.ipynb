{
 "cells": [
  {
   "cell_type": "markdown",
   "id": "972348ef",
   "metadata": {},
   "source": [
    "## VASISHT_ASSIGNMENT_1\n"
   ]
  },
  {
   "cell_type": "code",
   "execution_count": 2,
   "id": "a9ba38d1",
   "metadata": {},
   "outputs": [
    {
     "name": "stdout",
     "output_type": "stream",
     "text": [
      "Enter number 1: 10\n",
      "Enter number 2: 20\n",
      "the sum of 10 and 20 is 30\n"
     ]
    }
   ],
   "source": [
    "##Sum of 2 numbers\n",
    "a = int(input(\"Enter number 1: \"))\n",
    "b = int(input(\"Enter number 2: \"))\n",
    "c = a+b\n",
    "print(\"the sum of\",a,\"and\",b,\"is\",c)"
   ]
  },
  {
   "cell_type": "code",
   "execution_count": 5,
   "id": "f578cc1f",
   "metadata": {},
   "outputs": [
    {
     "name": "stdout",
     "output_type": "stream",
     "text": [
      "Enter number: 10\n",
      "Enter number: 20\n",
      "the sum of 10 and 20 is 30\n"
     ]
    }
   ],
   "source": [
    "##Sum of 2 numbers using functions\n",
    "def sum(a,b):\n",
    "    c = a+b\n",
    "    return c\n",
    "a = int(input(\"Enter number: \"))\n",
    "b = int(input(\"Enter number: \"))\n",
    "print(\"the sum of\",a,\"and\",b,\"is\",sum(a,b))\n"
   ]
  }
 ],
 "metadata": {
  "kernelspec": {
   "display_name": "Python 3 (ipykernel)",
   "language": "python",
   "name": "python3"
  },
  "language_info": {
   "codemirror_mode": {
    "name": "ipython",
    "version": 3
   },
   "file_extension": ".py",
   "mimetype": "text/x-python",
   "name": "python",
   "nbconvert_exporter": "python",
   "pygments_lexer": "ipython3",
   "version": "3.11.5"
  }
 },
 "nbformat": 4,
 "nbformat_minor": 5
}
