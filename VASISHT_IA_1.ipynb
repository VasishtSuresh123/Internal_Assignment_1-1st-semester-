{
 "cells": [
  {
   "cell_type": "markdown",
   "id": "9ff00e68",
   "metadata": {},
   "source": [
    "## VASISHT_Assignment_1"
   ]
  },
  {
   "cell_type": "code",
   "execution_count": 1,
   "id": "7d144625",
   "metadata": {
    "scrolled": true
   },
   "outputs": [
    {
     "name": "stdout",
     "output_type": "stream",
     "text": [
      "Enter a number: 10\n",
      "10 is an even number\n"
     ]
    }
   ],
   "source": [
    "##EVEN OR ODD NUMBER\n",
    "n = int(input(\"Enter a number: \"))\n",
    "a=n%2\n",
    "if(a==0):\n",
    "    print(n,\"is an even number\")\n",
    "else:\n",
    "    print(n,\"is an odd number\")"
   ]
  },
  {
   "cell_type": "code",
   "execution_count": 2,
   "id": "886e1a25",
   "metadata": {},
   "outputs": [
    {
     "name": "stdout",
     "output_type": "stream",
     "text": [
      "Enter a number:-1\n",
      "-1 is a negative integer\n"
     ]
    }
   ],
   "source": [
    "##POSITIVE OR NEGATIVE INTEGER\n",
    "m = int(input(\"Enter a number:\"))\n",
    "if(m>0):\n",
    "    print(m,\"is a positive integer\")\n",
    "elif(m==0):\n",
    "    print(m,\"is zero\")\n",
    "else:\n",
    "    print(m,\"is a negative integer\")"
   ]
  }
 ],
 "metadata": {
  "kernelspec": {
   "display_name": "Python 3 (ipykernel)",
   "language": "python",
   "name": "python3"
  },
  "language_info": {
   "codemirror_mode": {
    "name": "ipython",
    "version": 3
   },
   "file_extension": ".py",
   "mimetype": "text/x-python",
   "name": "python",
   "nbconvert_exporter": "python",
   "pygments_lexer": "ipython3",
   "version": "3.11.5"
  }
 },
 "nbformat": 4,
 "nbformat_minor": 5
}
