{
 "cells": [
  {
   "cell_type": "markdown",
   "id": "63aa7f40",
   "metadata": {},
   "source": [
    "## VASISHT_ASSIGNMENT_1\n"
   ]
  },
  {
   "cell_type": "code",
   "execution_count": 1,
   "id": "b5131935",
   "metadata": {},
   "outputs": [
    {
     "name": "stdout",
     "output_type": "stream",
     "text": [
      "Enter any number: 71863\n",
      "The unreversed version of a:  71863\n",
      "The reversed version of a:  36817\n"
     ]
    }
   ],
   "source": [
    "##reverse num in string\n",
    "a = int(input(\"Enter any number: \"))\n",
    "a = str(a)\n",
    "b = a[::-1]\n",
    "print(\"The unreversed version of a: \",a)\n",
    "print(\"The reversed version of a: \",b)\n"
   ]
  },
  {
   "cell_type": "code",
   "execution_count": 1,
   "id": "c372627e",
   "metadata": {},
   "outputs": [
    {
     "name": "stdout",
     "output_type": "stream",
     "text": [
      "Enter a number: 54\n",
      "The number you have entered is higher than the actual number\n",
      "Enter a number: 32\n",
      "The number you have entered is lower than the actual number.\n",
      "Enter a number: 37\n",
      "The number you have entered is higher than the actual number\n",
      "Enter a number: 35\n",
      "The number you have entered is higher than the actual number\n",
      "Enter a number: 34\n",
      "The number you have entered is higher than the actual number\n",
      "Enter a number: 33\n",
      "That is the correct answer\n"
     ]
    }
   ],
   "source": [
    "##Guessing a number using random\n",
    "import random\n",
    "num2 = random.randint(1,100)\n",
    "while True:\n",
    "    num1 = int(input(\"Enter a number: \"))\n",
    "    if(num1==num2):\n",
    "        print(\"That is the correct answer\")\n",
    "        break\n",
    "    elif(num1<num2):\n",
    "        print(\"The number you have entered is lower than the actual number.\")\n",
    "    else:\n",
    "        print(\"The number you have entered is higher than the actual number\")"
   ]
  }
 ],
 "metadata": {
  "kernelspec": {
   "display_name": "Python 3 (ipykernel)",
   "language": "python",
   "name": "python3"
  },
  "language_info": {
   "codemirror_mode": {
    "name": "ipython",
    "version": 3
   },
   "file_extension": ".py",
   "mimetype": "text/x-python",
   "name": "python",
   "nbconvert_exporter": "python",
   "pygments_lexer": "ipython3",
   "version": "3.11.5"
  }
 },
 "nbformat": 4,
 "nbformat_minor": 5
}
