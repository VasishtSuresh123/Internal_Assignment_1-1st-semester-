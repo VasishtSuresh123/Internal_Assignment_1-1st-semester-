{
 "cells": [
  {
   "cell_type": "markdown",
   "id": "2ea54c9f",
   "metadata": {},
   "source": [
    "## VASISHT_Assignment_1\n"
   ]
  },
  {
   "cell_type": "code",
   "execution_count": 2,
   "id": "70a3bf03",
   "metadata": {},
   "outputs": [
    {
     "name": "stdout",
     "output_type": "stream",
     "text": [
      "Enter a number: 30\n",
      "Enter a number: 20\n",
      "30 is greater than 20\n"
     ]
    }
   ],
   "source": [
    "##MAX OF 2 NUMBERS\n",
    "a = int(input(\"Enter a number: \"))\n",
    "b = int(input(\"Enter a number: \"))\n",
    "if(a>b):\n",
    "    print(a,\"is greater than\",b)\n",
    "else:\n",
    "    print(a,\"is lesser than\",b)"
   ]
  },
  {
   "cell_type": "code",
   "execution_count": 4,
   "id": "2ae10c28",
   "metadata": {},
   "outputs": [
    {
     "name": "stdout",
     "output_type": "stream",
     "text": [
      "Enter a number: 10\n",
      "Enter a number: 20\n",
      "10 is lesser than 20\n"
     ]
    }
   ],
   "source": [
    "##MIN OF 2 NUMBERS\n",
    "c = int(input(\"Enter a number: \"))\n",
    "d = int(input(\"Enter a number: \"))\n",
    "if(c<d):\n",
    "    print(c,\"is lesser than\",d)\n",
    "else:\n",
    "    print(d,\"is lesser than\",c)\n",
    "    \n",
    "    "
   ]
  }
 ],
 "metadata": {
  "kernelspec": {
   "display_name": "Python 3 (ipykernel)",
   "language": "python",
   "name": "python3"
  },
  "language_info": {
   "codemirror_mode": {
    "name": "ipython",
    "version": 3
   },
   "file_extension": ".py",
   "mimetype": "text/x-python",
   "name": "python",
   "nbconvert_exporter": "python",
   "pygments_lexer": "ipython3",
   "version": "3.11.5"
  }
 },
 "nbformat": 4,
 "nbformat_minor": 5
}
