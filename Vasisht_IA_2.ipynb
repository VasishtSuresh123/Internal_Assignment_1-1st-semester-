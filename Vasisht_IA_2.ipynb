{
 "cells": [
  {
   "cell_type": "markdown",
   "id": "5ee59b3a",
   "metadata": {},
   "source": [
    "## VASISHT_Assignment_1 "
   ]
  },
  {
   "cell_type": "code",
   "execution_count": 1,
   "id": "2b1d1a14",
   "metadata": {},
   "outputs": [
    {
     "name": "stdout",
     "output_type": "stream",
     "text": [
      "Enter a number:19\n",
      "19 is a prime number\n"
     ]
    }
   ],
   "source": [
    "##PRIME NUMBERS\n",
    "def prime(number):\n",
    "    if number <= 1:\n",
    "        return False\n",
    "    for i in range(2, int(number**0.5) + 1):\n",
    "        if number % i == 0:\n",
    "            return False\n",
    "    return True     \n",
    "        \n",
    "\n",
    "num = int(input(\"Enter a number:\"))\n",
    "if prime(num):\n",
    "    print(num,\"is a prime number\")\n",
    "else:\n",
    "    print(num,\"is not a prime number\")"
   ]
  },
  {
   "cell_type": "code",
   "execution_count": 8,
   "id": "91eeb45d",
   "metadata": {},
   "outputs": [
    {
     "name": "stdout",
     "output_type": "stream",
     "text": [
      "Enter a word:racecar\n",
      "racecar is a palindrome\n"
     ]
    }
   ],
   "source": [
    "##Palindrome\n",
    "word = input(\"Enter a word:\")\n",
    "word = word.lower()\n",
    "word1 = word[::-1]\n",
    "if(word==word1):\n",
    "    print(word,\"is a palindrome\")\n",
    "else:\n",
    "    print(word,\"is not a palindrome\")"
   ]
  }
 ],
 "metadata": {
  "kernelspec": {
   "display_name": "Python 3 (ipykernel)",
   "language": "python",
   "name": "python3"
  },
  "language_info": {
   "codemirror_mode": {
    "name": "ipython",
    "version": 3
   },
   "file_extension": ".py",
   "mimetype": "text/x-python",
   "name": "python",
   "nbconvert_exporter": "python",
   "pygments_lexer": "ipython3",
   "version": "3.11.5"
  }
 },
 "nbformat": 4,
 "nbformat_minor": 5
}
