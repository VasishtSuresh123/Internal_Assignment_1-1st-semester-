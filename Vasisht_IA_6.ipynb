{
 "cells": [
  {
   "cell_type": "markdown",
   "id": "3f411996",
   "metadata": {},
   "source": [
    "## VASISHT_ASSIGNMENT_1\n"
   ]
  },
  {
   "cell_type": "code",
   "execution_count": 1,
   "id": "bf910d77",
   "metadata": {},
   "outputs": [
    {
     "name": "stdout",
     "output_type": "stream",
     "text": [
      "Enter the number 1: 1208\n",
      "Enter the number 2: 1232\n",
      "\n",
      " The GCD of 1208 and 1232 is 8\n"
     ]
    }
   ],
   "source": [
    "##GCD OF TWO NUMBERS\n",
    "\n",
    "def gcd(a,b):\n",
    "    while b:\n",
    "        a, b = b, a % b\n",
    "    return a\n",
    "\n",
    "num1 = int(input(\"Enter the number 1: \"))\n",
    "num2 = int(input(\"Enter the number 2: \"))\n",
    "print(\"\\n The GCD of\",num1,\"and\",num2,\"is\",gcd(num1, num2))"
   ]
  },
  {
   "cell_type": "code",
   "execution_count": 2,
   "id": "47d0f269",
   "metadata": {},
   "outputs": [
    {
     "name": "stdout",
     "output_type": "stream",
     "text": [
      "After swapping: \n",
      " a=  20 b=  10\n"
     ]
    }
   ],
   "source": [
    "##SWAP 2 NUMBERS\n",
    "a = 10\n",
    "b = 20\n",
    "\n",
    "temp = a\n",
    "a = b\n",
    "b = temp\n",
    "\n",
    "print(\"After swapping: \\n a= \",a,\"b= \",b)"
   ]
  }
 ],
 "metadata": {
  "kernelspec": {
   "display_name": "Python 3 (ipykernel)",
   "language": "python",
   "name": "python3"
  },
  "language_info": {
   "codemirror_mode": {
    "name": "ipython",
    "version": 3
   },
   "file_extension": ".py",
   "mimetype": "text/x-python",
   "name": "python",
   "nbconvert_exporter": "python",
   "pygments_lexer": "ipython3",
   "version": "3.11.5"
  }
 },
 "nbformat": 4,
 "nbformat_minor": 5
}
